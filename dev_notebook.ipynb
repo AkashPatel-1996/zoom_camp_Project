{
 "cells": [
  {
   "cell_type": "code",
   "execution_count": 2,
   "id": "218a8b00-789c-4448-bed7-ce8515b79676",
   "metadata": {},
   "outputs": [],
   "source": [
    "import numpy as np\n",
    "import pandas as pd\n",
    "from sklearn import model_selection\n",
    "from sklearn.linear_model import LogisticRegression"
   ]
  },
  {
   "cell_type": "code",
   "execution_count": 7,
   "id": "9bc4f461-f001-4d36-92f5-75d1064ab326",
   "metadata": {},
   "outputs": [],
   "source": [
    "data = pd.read_csv(\"train_titanic.csv\")"
   ]
  },
  {
   "cell_type": "code",
   "execution_count": 8,
   "id": "3e244961-14f7-4e83-8d3e-982f54d12ada",
   "metadata": {},
   "outputs": [],
   "source": [
    "df = data.copy()"
   ]
  },
  {
   "cell_type": "markdown",
   "id": "44cf393c-475d-4b8c-87a2-8f54c07be08f",
   "metadata": {},
   "source": [
    "## As for lot of pasengers age is not availble we fill it with means of all ages"
   ]
  },
  {
   "cell_type": "code",
   "execution_count": 22,
   "id": "5c00c846-0334-4dbe-ad1b-824438138e08",
   "metadata": {},
   "outputs": [],
   "source": [
    "mean_age = df['Age'].mean()"
   ]
  },
  {
   "cell_type": "code",
   "execution_count": 23,
   "id": "6c726b3b-439e-453b-8b7b-ee15cc21ec2b",
   "metadata": {},
   "outputs": [
    {
     "data": {
      "text/plain": [
       "29.700559701492537"
      ]
     },
     "execution_count": 23,
     "metadata": {},
     "output_type": "execute_result"
    }
   ],
   "source": [
    "mean_age"
   ]
  },
  {
   "cell_type": "code",
   "execution_count": 24,
   "id": "b93c8d44-bc75-43bb-8e9c-05767ec01d30",
   "metadata": {},
   "outputs": [],
   "source": [
    "values = {\"Age\": mean_age}"
   ]
  },
  {
   "cell_type": "code",
   "execution_count": 25,
   "id": "be1019ab-9a3f-453b-842a-2edd2083a368",
   "metadata": {},
   "outputs": [],
   "source": [
    "df.fillna(value = values, inplace = True)"
   ]
  },
  {
   "cell_type": "markdown",
   "id": "f9b077ed-91c9-4fcd-a3a5-ab40278bace2",
   "metadata": {},
   "source": [
    "## ----------------------------------\n",
    "## Clean Data"
   ]
  },
  {
   "cell_type": "code",
   "execution_count": 29,
   "id": "98ebf835-b042-4e40-8041-6a393795cc23",
   "metadata": {},
   "outputs": [],
   "source": [
    "df['Embarked'] = df['Embarked'].astype('category').cat.codes\n",
    "df['Sex'] = df['Sex'].astype('category').cat.codes\n",
    "\n",
    "X_dataset = df[df.columns.difference(['Survived', 'Name', 'Ticket', 'Age'])]\n",
    "Y_dataset = df['Survived']\n",
    "\n",
    "X =  X_dataset.values\n",
    "\n",
    "\n",
    "\n",
    "Y = Y_dataset.values"
   ]
  },
  {
   "cell_type": "markdown",
   "id": "9705e7b2-ed2e-496c-ac94-f478df0deb26",
   "metadata": {},
   "source": [
    "## Spliting Data To Train and  Test "
   ]
  },
  {
   "cell_type": "code",
   "execution_count": 34,
   "id": "d35247fb-cdd5-4b76-b050-fdefe06199f8",
   "metadata": {},
   "outputs": [],
   "source": [
    "X_train, X_test, Y_train, Y_test = model_selection.train_test_split(X , Y )"
   ]
  },
  {
   "cell_type": "markdown",
   "id": "16714b1c-362a-4e7a-b754-2c68a0977c8f",
   "metadata": {},
   "source": []
  }
 ],
 "metadata": {
  "kernelspec": {
   "display_name": "Python 3 (ipykernel)",
   "language": "python",
   "name": "python3"
  },
  "language_info": {
   "codemirror_mode": {
    "name": "ipython",
    "version": 3
   },
   "file_extension": ".py",
   "mimetype": "text/x-python",
   "name": "python",
   "nbconvert_exporter": "python",
   "pygments_lexer": "ipython3",
   "version": "3.10.13"
  }
 },
 "nbformat": 4,
 "nbformat_minor": 5
}
